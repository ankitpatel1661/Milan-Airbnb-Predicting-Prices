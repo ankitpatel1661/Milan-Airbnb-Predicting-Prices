{
 "cells": [
  {
   "cell_type": "markdown",
   "metadata": {},
   "source": [
    "## Predicting the price for an Airbnb Host in Milan"
   ]
  },
  {
   "cell_type": "markdown",
   "metadata": {},
   "source": [
    "Airbnb has successfully disrupted the traditional hospitality industry as more and more travelers decide to use Airbnb as their primary accommodation provider. Since its inception in 2008, Airbnb has seen an enormous growth, with the number of rentals listed on its website growing exponentially each year.\n",
    "\n",
    "In Italy, no city is more popular than Milan for tech industry as well as  for tourism industry. That implies that Milan is one of the hottest markets for Airbnb in Europe, with over 18,783 listings as of August 2020. With a size of 181.8 km², this means there are roughly 104 homes being rented out per km² in Berlin on Airbnb!\n",
    "\n",
    "Considering the possibility that I might have to relocate for a new data science job, but want to keep my current flate (which is quite cheap!), I might wonder if it could be worth it to offer my jewel on Airbnb. Could this perhaps be a profitable option? However, it is difficult for potential hosts to know what the true value of their home is, and how in-demand their home might be. And since location and furniture are obviously fixed for the most part, is there anything else a host can influence - such as description, communication patterns, and/or additional services to boost their earnings?\n",
    "\n",
    "The following question will drive this project:<br>\n",
    "> **Can we determine a fairly spot-on daily price for a new accommodation that fits into its specific market environment and competitors in Milan?** <br>\n",
    "\n",
    "The question focuses on the accommodation features and decisions a new host can make with regards to initial presentation, i.e. posting a picture of him- or herself on the website, determining a minimum length of stay, offering instant bookings etc. A machine learning algorithm will be applied to try to get an answer. \n",
    "\n",
    "### The dataset\n",
    "\n",
    "In the first notebook, I will perform an analysis of the detailed Milan listings data, sourced from the Inside Airbnb website, in order to understand the rental landscape and try to recommend a price for a newbie entering the market. The dataset is named `listings.csv.gz` and was scraped on September 02nd 2020."
   ]
  },
  {
   "cell_type": "markdown",
   "metadata": {},
   "source": [
    "### 1. Obtaining and Viewing the Data \n"
   ]
  },
  {
   "cell_type": "code",
   "execution_count": 1,
   "metadata": {},
   "outputs": [],
   "source": [
    "import pandas as pd \n",
    "import numpy as np\n",
    "\n",
    "import matplotlib.pyplot as plt\n",
    "plt.style.use('seaborn')\n",
    "import seaborn as sns\n",
    "\n",
    "import re\n",
    "import xgboost as xgb\n",
    "\n",
    "import warnings\n",
    "warnings.filterwarnings(\"ignore\")"
   ]
  },
  {
   "cell_type": "code",
   "execution_count": 2,
   "metadata": {
    "scrolled": true
   },
   "outputs": [
    {
     "name": "stdout",
     "output_type": "stream",
     "text": [
      "The dataset has 18783 rows and 74 columns.\n",
      "It contains 0 duplicates.\n"
     ]
    }
   ],
   "source": [
    "pd.options.display.max_columns = None \n",
    "\n",
    "df_initial = pd.read_csv('C:/Users/Ankit Patel/Documents/GitHub/Milan Airbnb Prediction/dataset/listings.csv')\n",
    "\n",
    "# checking shape\n",
    "print(\"The dataset has {} rows and {} columns.\".format(*df_initial.shape))\n",
    "\n",
    "# ... and duplicates\n",
    "print(\"It contains {} duplicates.\".format(df_initial.duplicated().sum()))"
   ]
  },
  {
   "cell_type": "code",
   "execution_count": 3,
   "metadata": {},
   "outputs": [
    {
     "data": {
      "text/html": [
       "<div>\n",
       "<style scoped>\n",
       "    .dataframe tbody tr th:only-of-type {\n",
       "        vertical-align: middle;\n",
       "    }\n",
       "\n",
       "    .dataframe tbody tr th {\n",
       "        vertical-align: top;\n",
       "    }\n",
       "\n",
       "    .dataframe thead th {\n",
       "        text-align: right;\n",
       "    }\n",
       "</style>\n",
       "<table border=\"1\" class=\"dataframe\">\n",
       "  <thead>\n",
       "    <tr style=\"text-align: right;\">\n",
       "      <th></th>\n",
       "      <th>id</th>\n",
       "      <th>listing_url</th>\n",
       "      <th>scrape_id</th>\n",
       "      <th>last_scraped</th>\n",
       "      <th>name</th>\n",
       "      <th>description</th>\n",
       "      <th>neighborhood_overview</th>\n",
       "      <th>picture_url</th>\n",
       "      <th>host_id</th>\n",
       "      <th>host_url</th>\n",
       "      <th>host_name</th>\n",
       "      <th>host_since</th>\n",
       "      <th>host_location</th>\n",
       "      <th>host_about</th>\n",
       "      <th>host_response_time</th>\n",
       "      <th>host_response_rate</th>\n",
       "      <th>host_acceptance_rate</th>\n",
       "      <th>host_is_superhost</th>\n",
       "      <th>host_thumbnail_url</th>\n",
       "      <th>host_picture_url</th>\n",
       "      <th>host_neighbourhood</th>\n",
       "      <th>host_listings_count</th>\n",
       "      <th>host_total_listings_count</th>\n",
       "      <th>host_verifications</th>\n",
       "      <th>host_has_profile_pic</th>\n",
       "      <th>host_identity_verified</th>\n",
       "      <th>neighbourhood</th>\n",
       "      <th>neighbourhood_cleansed</th>\n",
       "      <th>neighbourhood_group_cleansed</th>\n",
       "      <th>latitude</th>\n",
       "      <th>longitude</th>\n",
       "      <th>property_type</th>\n",
       "      <th>room_type</th>\n",
       "      <th>accommodates</th>\n",
       "      <th>bathrooms</th>\n",
       "      <th>bathrooms_text</th>\n",
       "      <th>bedrooms</th>\n",
       "      <th>beds</th>\n",
       "      <th>amenities</th>\n",
       "      <th>price</th>\n",
       "      <th>minimum_nights</th>\n",
       "      <th>maximum_nights</th>\n",
       "      <th>minimum_minimum_nights</th>\n",
       "      <th>maximum_minimum_nights</th>\n",
       "      <th>minimum_maximum_nights</th>\n",
       "      <th>maximum_maximum_nights</th>\n",
       "      <th>minimum_nights_avg_ntm</th>\n",
       "      <th>maximum_nights_avg_ntm</th>\n",
       "      <th>calendar_updated</th>\n",
       "      <th>has_availability</th>\n",
       "      <th>availability_30</th>\n",
       "      <th>availability_60</th>\n",
       "      <th>availability_90</th>\n",
       "      <th>availability_365</th>\n",
       "      <th>calendar_last_scraped</th>\n",
       "      <th>number_of_reviews</th>\n",
       "      <th>number_of_reviews_ltm</th>\n",
       "      <th>number_of_reviews_l30d</th>\n",
       "      <th>first_review</th>\n",
       "      <th>last_review</th>\n",
       "      <th>review_scores_rating</th>\n",
       "      <th>review_scores_accuracy</th>\n",
       "      <th>review_scores_cleanliness</th>\n",
       "      <th>review_scores_checkin</th>\n",
       "      <th>review_scores_communication</th>\n",
       "      <th>review_scores_location</th>\n",
       "      <th>review_scores_value</th>\n",
       "      <th>license</th>\n",
       "      <th>instant_bookable</th>\n",
       "      <th>calculated_host_listings_count</th>\n",
       "      <th>calculated_host_listings_count_entire_homes</th>\n",
       "      <th>calculated_host_listings_count_private_rooms</th>\n",
       "      <th>calculated_host_listings_count_shared_rooms</th>\n",
       "      <th>reviews_per_month</th>\n",
       "    </tr>\n",
       "  </thead>\n",
       "  <tbody>\n",
       "    <tr>\n",
       "      <th>0</th>\n",
       "      <td>6400</td>\n",
       "      <td>https://www.airbnb.com/rooms/6400</td>\n",
       "      <td>20200831170621</td>\n",
       "      <td>2020-09-01</td>\n",
       "      <td>The Studio Milan</td>\n",
       "      <td>Enjoy your stay at The Studio, a light-filled ...</td>\n",
       "      <td>The neighborhood is quiet and very well connec...</td>\n",
       "      <td>https://a0.muscache.com/pictures/474737/5955ba...</td>\n",
       "      <td>13822</td>\n",
       "      <td>https://www.airbnb.com/users/show/13822</td>\n",
       "      <td>Francesca</td>\n",
       "      <td>2009-04-17</td>\n",
       "      <td>Milan, Lombardia, Italy</td>\n",
       "      <td>I'm am Francesca Sottilaro, i live in Milan an...</td>\n",
       "      <td>NaN</td>\n",
       "      <td>NaN</td>\n",
       "      <td>50%</td>\n",
       "      <td>f</td>\n",
       "      <td>https://a0.muscache.com/im/users/13822/profile...</td>\n",
       "      <td>https://a0.muscache.com/im/users/13822/profile...</td>\n",
       "      <td>Zona 5</td>\n",
       "      <td>1.0</td>\n",
       "      <td>1.0</td>\n",
       "      <td>['email', 'phone', 'reviews']</td>\n",
       "      <td>t</td>\n",
       "      <td>f</td>\n",
       "      <td>Milan, Lombardy, Italy</td>\n",
       "      <td>TIBALDI</td>\n",
       "      <td>NaN</td>\n",
       "      <td>45.44195</td>\n",
       "      <td>9.17797</td>\n",
       "      <td>Private room in apartment</td>\n",
       "      <td>Private room</td>\n",
       "      <td>1</td>\n",
       "      <td>NaN</td>\n",
       "      <td>3.5 baths</td>\n",
       "      <td>3.0</td>\n",
       "      <td>1.0</td>\n",
       "      <td>[\"Elevator\", \"Host greets you\", \"Breakfast\", \"...</td>\n",
       "      <td>$100.00</td>\n",
       "      <td>4</td>\n",
       "      <td>5</td>\n",
       "      <td>4</td>\n",
       "      <td>4</td>\n",
       "      <td>5</td>\n",
       "      <td>5</td>\n",
       "      <td>4.0</td>\n",
       "      <td>5.0</td>\n",
       "      <td>NaN</td>\n",
       "      <td>t</td>\n",
       "      <td>23</td>\n",
       "      <td>53</td>\n",
       "      <td>83</td>\n",
       "      <td>358</td>\n",
       "      <td>2020-09-01</td>\n",
       "      <td>12</td>\n",
       "      <td>0</td>\n",
       "      <td>0</td>\n",
       "      <td>2010-04-19</td>\n",
       "      <td>2019-04-13</td>\n",
       "      <td>98.0</td>\n",
       "      <td>10.0</td>\n",
       "      <td>10.0</td>\n",
       "      <td>10.0</td>\n",
       "      <td>10.0</td>\n",
       "      <td>9.0</td>\n",
       "      <td>9.0</td>\n",
       "      <td>NaN</td>\n",
       "      <td>f</td>\n",
       "      <td>1</td>\n",
       "      <td>0</td>\n",
       "      <td>1</td>\n",
       "      <td>0</td>\n",
       "      <td>0.10</td>\n",
       "    </tr>\n",
       "    <tr>\n",
       "      <th>1</th>\n",
       "      <td>23986</td>\n",
       "      <td>https://www.airbnb.com/rooms/23986</td>\n",
       "      <td>20200831170621</td>\n",
       "      <td>2020-09-01</td>\n",
       "      <td>\" Characteristic Milanese flat\"</td>\n",
       "      <td>I look forward to welcoming you in my flat; it...</td>\n",
       "      <td>NaN</td>\n",
       "      <td>https://a0.muscache.com/pictures/623d63f8-56cf...</td>\n",
       "      <td>95941</td>\n",
       "      <td>https://www.airbnb.com/users/show/95941</td>\n",
       "      <td>Jeremy</td>\n",
       "      <td>2010-03-19</td>\n",
       "      <td>Milan, Lombardy, Italy</td>\n",
       "      <td>Hallo , I'm Jeremy Hayne I live in Milan and I...</td>\n",
       "      <td>within a day</td>\n",
       "      <td>100%</td>\n",
       "      <td>80%</td>\n",
       "      <td>f</td>\n",
       "      <td>https://a0.muscache.com/im/users/95941/profile...</td>\n",
       "      <td>https://a0.muscache.com/im/users/95941/profile...</td>\n",
       "      <td>Navigli</td>\n",
       "      <td>1.0</td>\n",
       "      <td>1.0</td>\n",
       "      <td>['email', 'phone', 'facebook', 'reviews', 'jum...</td>\n",
       "      <td>t</td>\n",
       "      <td>t</td>\n",
       "      <td>NaN</td>\n",
       "      <td>NAVIGLI</td>\n",
       "      <td>NaN</td>\n",
       "      <td>45.44991</td>\n",
       "      <td>9.17597</td>\n",
       "      <td>Entire apartment</td>\n",
       "      <td>Entire home/apt</td>\n",
       "      <td>4</td>\n",
       "      <td>NaN</td>\n",
       "      <td>1 bath</td>\n",
       "      <td>1.0</td>\n",
       "      <td>1.0</td>\n",
       "      <td>[\"Paid parking off premises\", \"Bed linens\", \"L...</td>\n",
       "      <td>$150.00</td>\n",
       "      <td>1</td>\n",
       "      <td>730</td>\n",
       "      <td>1</td>\n",
       "      <td>1</td>\n",
       "      <td>730</td>\n",
       "      <td>730</td>\n",
       "      <td>1.0</td>\n",
       "      <td>730.0</td>\n",
       "      <td>NaN</td>\n",
       "      <td>t</td>\n",
       "      <td>24</td>\n",
       "      <td>54</td>\n",
       "      <td>84</td>\n",
       "      <td>359</td>\n",
       "      <td>2020-09-01</td>\n",
       "      <td>14</td>\n",
       "      <td>1</td>\n",
       "      <td>0</td>\n",
       "      <td>2012-04-24</td>\n",
       "      <td>2019-09-02</td>\n",
       "      <td>92.0</td>\n",
       "      <td>9.0</td>\n",
       "      <td>9.0</td>\n",
       "      <td>9.0</td>\n",
       "      <td>9.0</td>\n",
       "      <td>9.0</td>\n",
       "      <td>9.0</td>\n",
       "      <td>NaN</td>\n",
       "      <td>f</td>\n",
       "      <td>1</td>\n",
       "      <td>1</td>\n",
       "      <td>0</td>\n",
       "      <td>0</td>\n",
       "      <td>0.14</td>\n",
       "    </tr>\n",
       "    <tr>\n",
       "      <th>2</th>\n",
       "      <td>32119</td>\n",
       "      <td>https://www.airbnb.com/rooms/32119</td>\n",
       "      <td>20200831170621</td>\n",
       "      <td>2020-09-02</td>\n",
       "      <td>Nico &amp; Cynthia's Easy Yellow Suite</td>\n",
       "      <td>&lt;b&gt;The space&lt;/b&gt;&lt;br /&gt;Do you visit Milan for s...</td>\n",
       "      <td>NaN</td>\n",
       "      <td>https://a0.muscache.com/pictures/31c7781c-638a...</td>\n",
       "      <td>138683</td>\n",
       "      <td>https://www.airbnb.com/users/show/138683</td>\n",
       "      <td>Nico&amp;Cinzia</td>\n",
       "      <td>2010-06-05</td>\n",
       "      <td>Milan, Lombardia, Italy</td>\n",
       "      <td>Hi, we are Nico and Cinzia.. do you like a eas...</td>\n",
       "      <td>within an hour</td>\n",
       "      <td>100%</td>\n",
       "      <td>50%</td>\n",
       "      <td>f</td>\n",
       "      <td>https://a0.muscache.com/im/users/138683/profil...</td>\n",
       "      <td>https://a0.muscache.com/im/users/138683/profil...</td>\n",
       "      <td>Zona 2</td>\n",
       "      <td>4.0</td>\n",
       "      <td>4.0</td>\n",
       "      <td>['email', 'phone', 'facebook', 'reviews', 'jum...</td>\n",
       "      <td>t</td>\n",
       "      <td>t</td>\n",
       "      <td>NaN</td>\n",
       "      <td>VIALE MONZA</td>\n",
       "      <td>NaN</td>\n",
       "      <td>45.51988</td>\n",
       "      <td>9.22310</td>\n",
       "      <td>Entire apartment</td>\n",
       "      <td>Entire home/apt</td>\n",
       "      <td>4</td>\n",
       "      <td>NaN</td>\n",
       "      <td>1 bath</td>\n",
       "      <td>1.0</td>\n",
       "      <td>4.0</td>\n",
       "      <td>[\"Elevator\", \"Air conditioning\", \"Kitchen\", \"E...</td>\n",
       "      <td>$107.00</td>\n",
       "      <td>3</td>\n",
       "      <td>730</td>\n",
       "      <td>2</td>\n",
       "      <td>4</td>\n",
       "      <td>730</td>\n",
       "      <td>730</td>\n",
       "      <td>2.6</td>\n",
       "      <td>730.0</td>\n",
       "      <td>NaN</td>\n",
       "      <td>t</td>\n",
       "      <td>29</td>\n",
       "      <td>59</td>\n",
       "      <td>89</td>\n",
       "      <td>364</td>\n",
       "      <td>2020-09-02</td>\n",
       "      <td>15</td>\n",
       "      <td>0</td>\n",
       "      <td>0</td>\n",
       "      <td>2010-06-20</td>\n",
       "      <td>2018-07-01</td>\n",
       "      <td>97.0</td>\n",
       "      <td>10.0</td>\n",
       "      <td>10.0</td>\n",
       "      <td>10.0</td>\n",
       "      <td>10.0</td>\n",
       "      <td>9.0</td>\n",
       "      <td>10.0</td>\n",
       "      <td>NaN</td>\n",
       "      <td>f</td>\n",
       "      <td>4</td>\n",
       "      <td>4</td>\n",
       "      <td>0</td>\n",
       "      <td>0</td>\n",
       "      <td>0.12</td>\n",
       "    </tr>\n",
       "    <tr>\n",
       "      <th>3</th>\n",
       "      <td>32649</td>\n",
       "      <td>https://www.airbnb.com/rooms/32649</td>\n",
       "      <td>20200831170621</td>\n",
       "      <td>2020-09-02</td>\n",
       "      <td>Nico&amp;Cinzia's Red Easy Suite!</td>\n",
       "      <td>Larger group can book Red and Pink (rooms/4653...</td>\n",
       "      <td>Flat  It's located in north side of milan, jus...</td>\n",
       "      <td>https://a0.muscache.com/pictures/8311962f-3472...</td>\n",
       "      <td>138683</td>\n",
       "      <td>https://www.airbnb.com/users/show/138683</td>\n",
       "      <td>Nico&amp;Cinzia</td>\n",
       "      <td>2010-06-05</td>\n",
       "      <td>Milan, Lombardia, Italy</td>\n",
       "      <td>Hi, we are Nico and Cinzia.. do you like a eas...</td>\n",
       "      <td>within an hour</td>\n",
       "      <td>100%</td>\n",
       "      <td>50%</td>\n",
       "      <td>f</td>\n",
       "      <td>https://a0.muscache.com/im/users/138683/profil...</td>\n",
       "      <td>https://a0.muscache.com/im/users/138683/profil...</td>\n",
       "      <td>Zona 2</td>\n",
       "      <td>4.0</td>\n",
       "      <td>4.0</td>\n",
       "      <td>['email', 'phone', 'facebook', 'reviews', 'jum...</td>\n",
       "      <td>t</td>\n",
       "      <td>t</td>\n",
       "      <td>Milan, Lombardy, Italy</td>\n",
       "      <td>VIALE MONZA</td>\n",
       "      <td>NaN</td>\n",
       "      <td>45.51942</td>\n",
       "      <td>9.22615</td>\n",
       "      <td>Entire apartment</td>\n",
       "      <td>Entire home/apt</td>\n",
       "      <td>4</td>\n",
       "      <td>NaN</td>\n",
       "      <td>1 bath</td>\n",
       "      <td>1.0</td>\n",
       "      <td>3.0</td>\n",
       "      <td>[\"Elevator\", \"Air conditioning\", \"Kitchen\", \"E...</td>\n",
       "      <td>$72.00</td>\n",
       "      <td>3</td>\n",
       "      <td>730</td>\n",
       "      <td>2</td>\n",
       "      <td>4</td>\n",
       "      <td>730</td>\n",
       "      <td>730</td>\n",
       "      <td>2.6</td>\n",
       "      <td>730.0</td>\n",
       "      <td>NaN</td>\n",
       "      <td>t</td>\n",
       "      <td>29</td>\n",
       "      <td>59</td>\n",
       "      <td>89</td>\n",
       "      <td>364</td>\n",
       "      <td>2020-09-02</td>\n",
       "      <td>29</td>\n",
       "      <td>0</td>\n",
       "      <td>0</td>\n",
       "      <td>2010-07-18</td>\n",
       "      <td>2019-07-07</td>\n",
       "      <td>96.0</td>\n",
       "      <td>10.0</td>\n",
       "      <td>10.0</td>\n",
       "      <td>10.0</td>\n",
       "      <td>10.0</td>\n",
       "      <td>9.0</td>\n",
       "      <td>9.0</td>\n",
       "      <td>NaN</td>\n",
       "      <td>f</td>\n",
       "      <td>4</td>\n",
       "      <td>4</td>\n",
       "      <td>0</td>\n",
       "      <td>0</td>\n",
       "      <td>0.24</td>\n",
       "    </tr>\n",
       "    <tr>\n",
       "      <th>4</th>\n",
       "      <td>37256</td>\n",
       "      <td>https://www.airbnb.com/rooms/37256</td>\n",
       "      <td>20200831170621</td>\n",
       "      <td>2020-09-01</td>\n",
       "      <td>COZY FULLY FURNISHED PRIVATE STUDIO CITY CENTER</td>\n",
       "      <td>COZY, FULLY FURNISHED, PRIVATE STUDIO IN THE C...</td>\n",
       "      <td>Best area of Milan, at walking distance from t...</td>\n",
       "      <td>https://a0.muscache.com/pictures/ae0e12cd-2762...</td>\n",
       "      <td>119002</td>\n",
       "      <td>https://www.airbnb.com/users/show/119002</td>\n",
       "      <td>Giancarlo</td>\n",
       "      <td>2010-05-05</td>\n",
       "      <td>Milan, Lombardia, Italy</td>\n",
       "      <td>Ciao, \\r\\nThank you for taking interest in my ...</td>\n",
       "      <td>within an hour</td>\n",
       "      <td>100%</td>\n",
       "      <td>92%</td>\n",
       "      <td>t</td>\n",
       "      <td>https://a0.muscache.com/im/users/119002/profil...</td>\n",
       "      <td>https://a0.muscache.com/im/users/119002/profil...</td>\n",
       "      <td>Centro Storico</td>\n",
       "      <td>2.0</td>\n",
       "      <td>2.0</td>\n",
       "      <td>['email', 'phone', 'reviews', 'jumio', 'offlin...</td>\n",
       "      <td>t</td>\n",
       "      <td>t</td>\n",
       "      <td>Milan, Lombardy, Italy</td>\n",
       "      <td>GUASTALLA</td>\n",
       "      <td>NaN</td>\n",
       "      <td>45.47074</td>\n",
       "      <td>9.20578</td>\n",
       "      <td>Private room in apartment</td>\n",
       "      <td>Private room</td>\n",
       "      <td>1</td>\n",
       "      <td>NaN</td>\n",
       "      <td>1 shared bath</td>\n",
       "      <td>1.0</td>\n",
       "      <td>1.0</td>\n",
       "      <td>[\"Host greets you\", \"Laptop-friendly workspace...</td>\n",
       "      <td>$55.00</td>\n",
       "      <td>2</td>\n",
       "      <td>730</td>\n",
       "      <td>2</td>\n",
       "      <td>2</td>\n",
       "      <td>1125</td>\n",
       "      <td>1125</td>\n",
       "      <td>2.0</td>\n",
       "      <td>1125.0</td>\n",
       "      <td>NaN</td>\n",
       "      <td>t</td>\n",
       "      <td>27</td>\n",
       "      <td>38</td>\n",
       "      <td>68</td>\n",
       "      <td>328</td>\n",
       "      <td>2020-09-01</td>\n",
       "      <td>34</td>\n",
       "      <td>2</td>\n",
       "      <td>0</td>\n",
       "      <td>2010-11-24</td>\n",
       "      <td>2019-11-03</td>\n",
       "      <td>98.0</td>\n",
       "      <td>10.0</td>\n",
       "      <td>10.0</td>\n",
       "      <td>10.0</td>\n",
       "      <td>10.0</td>\n",
       "      <td>10.0</td>\n",
       "      <td>9.0</td>\n",
       "      <td>NaN</td>\n",
       "      <td>t</td>\n",
       "      <td>2</td>\n",
       "      <td>1</td>\n",
       "      <td>1</td>\n",
       "      <td>0</td>\n",
       "      <td>0.29</td>\n",
       "    </tr>\n",
       "  </tbody>\n",
       "</table>\n",
       "</div>"
      ],
      "text/plain": [
       "      id                         listing_url       scrape_id last_scraped  \\\n",
       "0   6400   https://www.airbnb.com/rooms/6400  20200831170621   2020-09-01   \n",
       "1  23986  https://www.airbnb.com/rooms/23986  20200831170621   2020-09-01   \n",
       "2  32119  https://www.airbnb.com/rooms/32119  20200831170621   2020-09-02   \n",
       "3  32649  https://www.airbnb.com/rooms/32649  20200831170621   2020-09-02   \n",
       "4  37256  https://www.airbnb.com/rooms/37256  20200831170621   2020-09-01   \n",
       "\n",
       "                                              name  \\\n",
       "0                                 The Studio Milan   \n",
       "1                  \" Characteristic Milanese flat\"   \n",
       "2               Nico & Cynthia's Easy Yellow Suite   \n",
       "3                    Nico&Cinzia's Red Easy Suite!   \n",
       "4  COZY FULLY FURNISHED PRIVATE STUDIO CITY CENTER   \n",
       "\n",
       "                                         description  \\\n",
       "0  Enjoy your stay at The Studio, a light-filled ...   \n",
       "1  I look forward to welcoming you in my flat; it...   \n",
       "2  <b>The space</b><br />Do you visit Milan for s...   \n",
       "3  Larger group can book Red and Pink (rooms/4653...   \n",
       "4  COZY, FULLY FURNISHED, PRIVATE STUDIO IN THE C...   \n",
       "\n",
       "                               neighborhood_overview  \\\n",
       "0  The neighborhood is quiet and very well connec...   \n",
       "1                                                NaN   \n",
       "2                                                NaN   \n",
       "3  Flat  It's located in north side of milan, jus...   \n",
       "4  Best area of Milan, at walking distance from t...   \n",
       "\n",
       "                                         picture_url  host_id  \\\n",
       "0  https://a0.muscache.com/pictures/474737/5955ba...    13822   \n",
       "1  https://a0.muscache.com/pictures/623d63f8-56cf...    95941   \n",
       "2  https://a0.muscache.com/pictures/31c7781c-638a...   138683   \n",
       "3  https://a0.muscache.com/pictures/8311962f-3472...   138683   \n",
       "4  https://a0.muscache.com/pictures/ae0e12cd-2762...   119002   \n",
       "\n",
       "                                   host_url    host_name  host_since  \\\n",
       "0   https://www.airbnb.com/users/show/13822    Francesca  2009-04-17   \n",
       "1   https://www.airbnb.com/users/show/95941       Jeremy  2010-03-19   \n",
       "2  https://www.airbnb.com/users/show/138683  Nico&Cinzia  2010-06-05   \n",
       "3  https://www.airbnb.com/users/show/138683  Nico&Cinzia  2010-06-05   \n",
       "4  https://www.airbnb.com/users/show/119002    Giancarlo  2010-05-05   \n",
       "\n",
       "             host_location                                         host_about  \\\n",
       "0  Milan, Lombardia, Italy  I'm am Francesca Sottilaro, i live in Milan an...   \n",
       "1   Milan, Lombardy, Italy  Hallo , I'm Jeremy Hayne I live in Milan and I...   \n",
       "2  Milan, Lombardia, Italy  Hi, we are Nico and Cinzia.. do you like a eas...   \n",
       "3  Milan, Lombardia, Italy  Hi, we are Nico and Cinzia.. do you like a eas...   \n",
       "4  Milan, Lombardia, Italy  Ciao, \\r\\nThank you for taking interest in my ...   \n",
       "\n",
       "  host_response_time host_response_rate host_acceptance_rate  \\\n",
       "0                NaN                NaN                  50%   \n",
       "1       within a day               100%                  80%   \n",
       "2     within an hour               100%                  50%   \n",
       "3     within an hour               100%                  50%   \n",
       "4     within an hour               100%                  92%   \n",
       "\n",
       "  host_is_superhost                                 host_thumbnail_url  \\\n",
       "0                 f  https://a0.muscache.com/im/users/13822/profile...   \n",
       "1                 f  https://a0.muscache.com/im/users/95941/profile...   \n",
       "2                 f  https://a0.muscache.com/im/users/138683/profil...   \n",
       "3                 f  https://a0.muscache.com/im/users/138683/profil...   \n",
       "4                 t  https://a0.muscache.com/im/users/119002/profil...   \n",
       "\n",
       "                                    host_picture_url host_neighbourhood  \\\n",
       "0  https://a0.muscache.com/im/users/13822/profile...             Zona 5   \n",
       "1  https://a0.muscache.com/im/users/95941/profile...            Navigli   \n",
       "2  https://a0.muscache.com/im/users/138683/profil...             Zona 2   \n",
       "3  https://a0.muscache.com/im/users/138683/profil...             Zona 2   \n",
       "4  https://a0.muscache.com/im/users/119002/profil...     Centro Storico   \n",
       "\n",
       "   host_listings_count  host_total_listings_count  \\\n",
       "0                  1.0                        1.0   \n",
       "1                  1.0                        1.0   \n",
       "2                  4.0                        4.0   \n",
       "3                  4.0                        4.0   \n",
       "4                  2.0                        2.0   \n",
       "\n",
       "                                  host_verifications host_has_profile_pic  \\\n",
       "0                      ['email', 'phone', 'reviews']                    t   \n",
       "1  ['email', 'phone', 'facebook', 'reviews', 'jum...                    t   \n",
       "2  ['email', 'phone', 'facebook', 'reviews', 'jum...                    t   \n",
       "3  ['email', 'phone', 'facebook', 'reviews', 'jum...                    t   \n",
       "4  ['email', 'phone', 'reviews', 'jumio', 'offlin...                    t   \n",
       "\n",
       "  host_identity_verified           neighbourhood neighbourhood_cleansed  \\\n",
       "0                      f  Milan, Lombardy, Italy                TIBALDI   \n",
       "1                      t                     NaN                NAVIGLI   \n",
       "2                      t                     NaN            VIALE MONZA   \n",
       "3                      t  Milan, Lombardy, Italy            VIALE MONZA   \n",
       "4                      t  Milan, Lombardy, Italy              GUASTALLA   \n",
       "\n",
       "   neighbourhood_group_cleansed  latitude  longitude  \\\n",
       "0                           NaN  45.44195    9.17797   \n",
       "1                           NaN  45.44991    9.17597   \n",
       "2                           NaN  45.51988    9.22310   \n",
       "3                           NaN  45.51942    9.22615   \n",
       "4                           NaN  45.47074    9.20578   \n",
       "\n",
       "               property_type        room_type  accommodates  bathrooms  \\\n",
       "0  Private room in apartment     Private room             1        NaN   \n",
       "1           Entire apartment  Entire home/apt             4        NaN   \n",
       "2           Entire apartment  Entire home/apt             4        NaN   \n",
       "3           Entire apartment  Entire home/apt             4        NaN   \n",
       "4  Private room in apartment     Private room             1        NaN   \n",
       "\n",
       "  bathrooms_text  bedrooms  beds  \\\n",
       "0      3.5 baths       3.0   1.0   \n",
       "1         1 bath       1.0   1.0   \n",
       "2         1 bath       1.0   4.0   \n",
       "3         1 bath       1.0   3.0   \n",
       "4  1 shared bath       1.0   1.0   \n",
       "\n",
       "                                           amenities    price  minimum_nights  \\\n",
       "0  [\"Elevator\", \"Host greets you\", \"Breakfast\", \"...  $100.00               4   \n",
       "1  [\"Paid parking off premises\", \"Bed linens\", \"L...  $150.00               1   \n",
       "2  [\"Elevator\", \"Air conditioning\", \"Kitchen\", \"E...  $107.00               3   \n",
       "3  [\"Elevator\", \"Air conditioning\", \"Kitchen\", \"E...   $72.00               3   \n",
       "4  [\"Host greets you\", \"Laptop-friendly workspace...   $55.00               2   \n",
       "\n",
       "   maximum_nights  minimum_minimum_nights  maximum_minimum_nights  \\\n",
       "0               5                       4                       4   \n",
       "1             730                       1                       1   \n",
       "2             730                       2                       4   \n",
       "3             730                       2                       4   \n",
       "4             730                       2                       2   \n",
       "\n",
       "   minimum_maximum_nights  maximum_maximum_nights  minimum_nights_avg_ntm  \\\n",
       "0                       5                       5                     4.0   \n",
       "1                     730                     730                     1.0   \n",
       "2                     730                     730                     2.6   \n",
       "3                     730                     730                     2.6   \n",
       "4                    1125                    1125                     2.0   \n",
       "\n",
       "   maximum_nights_avg_ntm  calendar_updated has_availability  availability_30  \\\n",
       "0                     5.0               NaN                t               23   \n",
       "1                   730.0               NaN                t               24   \n",
       "2                   730.0               NaN                t               29   \n",
       "3                   730.0               NaN                t               29   \n",
       "4                  1125.0               NaN                t               27   \n",
       "\n",
       "   availability_60  availability_90  availability_365 calendar_last_scraped  \\\n",
       "0               53               83               358            2020-09-01   \n",
       "1               54               84               359            2020-09-01   \n",
       "2               59               89               364            2020-09-02   \n",
       "3               59               89               364            2020-09-02   \n",
       "4               38               68               328            2020-09-01   \n",
       "\n",
       "   number_of_reviews  number_of_reviews_ltm  number_of_reviews_l30d  \\\n",
       "0                 12                      0                       0   \n",
       "1                 14                      1                       0   \n",
       "2                 15                      0                       0   \n",
       "3                 29                      0                       0   \n",
       "4                 34                      2                       0   \n",
       "\n",
       "  first_review last_review  review_scores_rating  review_scores_accuracy  \\\n",
       "0   2010-04-19  2019-04-13                  98.0                    10.0   \n",
       "1   2012-04-24  2019-09-02                  92.0                     9.0   \n",
       "2   2010-06-20  2018-07-01                  97.0                    10.0   \n",
       "3   2010-07-18  2019-07-07                  96.0                    10.0   \n",
       "4   2010-11-24  2019-11-03                  98.0                    10.0   \n",
       "\n",
       "   review_scores_cleanliness  review_scores_checkin  \\\n",
       "0                       10.0                   10.0   \n",
       "1                        9.0                    9.0   \n",
       "2                       10.0                   10.0   \n",
       "3                       10.0                   10.0   \n",
       "4                       10.0                   10.0   \n",
       "\n",
       "   review_scores_communication  review_scores_location  review_scores_value  \\\n",
       "0                         10.0                     9.0                  9.0   \n",
       "1                          9.0                     9.0                  9.0   \n",
       "2                         10.0                     9.0                 10.0   \n",
       "3                         10.0                     9.0                  9.0   \n",
       "4                         10.0                    10.0                  9.0   \n",
       "\n",
       "  license instant_bookable  calculated_host_listings_count  \\\n",
       "0     NaN                f                               1   \n",
       "1     NaN                f                               1   \n",
       "2     NaN                f                               4   \n",
       "3     NaN                f                               4   \n",
       "4     NaN                t                               2   \n",
       "\n",
       "   calculated_host_listings_count_entire_homes  \\\n",
       "0                                            0   \n",
       "1                                            1   \n",
       "2                                            4   \n",
       "3                                            4   \n",
       "4                                            1   \n",
       "\n",
       "   calculated_host_listings_count_private_rooms  \\\n",
       "0                                             1   \n",
       "1                                             0   \n",
       "2                                             0   \n",
       "3                                             0   \n",
       "4                                             1   \n",
       "\n",
       "   calculated_host_listings_count_shared_rooms  reviews_per_month  \n",
       "0                                            0               0.10  \n",
       "1                                            0               0.14  \n",
       "2                                            0               0.12  \n",
       "3                                            0               0.24  \n",
       "4                                            0               0.29  "
      ]
     },
     "execution_count": 3,
     "metadata": {},
     "output_type": "execute_result"
    }
   ],
   "source": [
    "df_initial.head()"
   ]
  },
  {
   "cell_type": "code",
   "execution_count": 4,
   "metadata": {},
   "outputs": [
    {
     "data": {
      "text/plain": [
       "Index(['id', 'listing_url', 'scrape_id', 'last_scraped', 'name', 'description',\n",
       "       'neighborhood_overview', 'picture_url', 'host_id', 'host_url',\n",
       "       'host_name', 'host_since', 'host_location', 'host_about',\n",
       "       'host_response_time', 'host_response_rate', 'host_acceptance_rate',\n",
       "       'host_is_superhost', 'host_thumbnail_url', 'host_picture_url',\n",
       "       'host_neighbourhood', 'host_listings_count',\n",
       "       'host_total_listings_count', 'host_verifications',\n",
       "       'host_has_profile_pic', 'host_identity_verified', 'neighbourhood',\n",
       "       'neighbourhood_cleansed', 'neighbourhood_group_cleansed', 'latitude',\n",
       "       'longitude', 'property_type', 'room_type', 'accommodates', 'bathrooms',\n",
       "       'bathrooms_text', 'bedrooms', 'beds', 'amenities', 'price',\n",
       "       'minimum_nights', 'maximum_nights', 'minimum_minimum_nights',\n",
       "       'maximum_minimum_nights', 'minimum_maximum_nights',\n",
       "       'maximum_maximum_nights', 'minimum_nights_avg_ntm',\n",
       "       'maximum_nights_avg_ntm', 'calendar_updated', 'has_availability',\n",
       "       'availability_30', 'availability_60', 'availability_90',\n",
       "       'availability_365', 'calendar_last_scraped', 'number_of_reviews',\n",
       "       'number_of_reviews_ltm', 'number_of_reviews_l30d', 'first_review',\n",
       "       'last_review', 'review_scores_rating', 'review_scores_accuracy',\n",
       "       'review_scores_cleanliness', 'review_scores_checkin',\n",
       "       'review_scores_communication', 'review_scores_location',\n",
       "       'review_scores_value', 'license', 'instant_bookable',\n",
       "       'calculated_host_listings_count',\n",
       "       'calculated_host_listings_count_entire_homes',\n",
       "       'calculated_host_listings_count_private_rooms',\n",
       "       'calculated_host_listings_count_shared_rooms', 'reviews_per_month'],\n",
       "      dtype='object')"
      ]
     },
     "execution_count": 4,
     "metadata": {},
     "output_type": "execute_result"
    }
   ],
   "source": [
    "# check the columns we currently have\n",
    "df_initial.columns"
   ]
  },
  {
   "cell_type": "markdown",
   "metadata": {},
   "source": [
    "### 2. Preprocessing the Data\n",
    "#### 2.1. Deciding which columns to work with\n",
    "Let's imagine we are in the shoes of someone who'd like to offer their home. Fixed features of our property include its rooms, size, and location. We also can decide on how we want to be listed: with a picture or not, how many minimum nights we want a guest to stay, whether we are instantly bookable, how we handle cancellations, etc. But we can neither be a \"super host\", nor do we have any reviews yet to show - although they can be very important for setting a price. So, let's focus only on features we can influence:"
   ]
  },
  {
   "cell_type": "code",
   "execution_count": 5,
   "metadata": {
    "scrolled": true
   },
   "outputs": [],
   "source": [
    "# define the columns we want to keep\n",
    "#columns_to_keep = ['id', 'description', 'host_has_profile_pic', 'neighbourhood_group_cleansed', \n",
    " #                  'latitude', 'longitude', 'property_type', 'room_type', 'accommodates', 'bathrooms',  \n",
    "  #                 'bedrooms', 'beds', 'amenities', 'price',\n",
    "   #                 'minimum_nights','review_scores_rating',  \n",
    "    #               'instant_bookable']\n",
    "\n",
    "#df_raw = df_initial[columns_to_keep].set_index('id')\n",
    "#print(\"The dataset has {} rows and {} columns - after dropping irrelevant columns.\".format(*df_raw.shape))"
   ]
  },
  {
   "cell_type": "code",
   "execution_count": 6,
   "metadata": {},
   "outputs": [
    {
     "name": "stdout",
     "output_type": "stream",
     "text": [
      "The dataset has 18783 rows and 73 columns - after dropping irrelevant columns.\n"
     ]
    }
   ],
   "source": [
    "# define the columns we want to keep\n",
    "columns_to_keep = ['id', 'listing_url', 'scrape_id', 'last_scraped', 'name', 'description',\n",
    "       'neighborhood_overview', 'picture_url', 'host_id', 'host_url',\n",
    "       'host_name', 'host_since', 'host_location', 'host_about',\n",
    "       'host_response_time', 'host_response_rate', 'host_acceptance_rate',\n",
    "       'host_is_superhost', 'host_thumbnail_url', 'host_picture_url',\n",
    "       'host_neighbourhood', 'host_listings_count',\n",
    "       'host_total_listings_count', 'host_verifications',\n",
    "       'host_has_profile_pic', 'host_identity_verified', 'neighbourhood',\n",
    "       'neighbourhood_cleansed', 'neighbourhood_group_cleansed', 'latitude',\n",
    "       'longitude', 'property_type', 'room_type', 'accommodates', 'bathrooms',\n",
    "       'bathrooms_text', 'bedrooms', 'beds', 'amenities', 'price',\n",
    "       'minimum_nights', 'maximum_nights', 'minimum_minimum_nights',\n",
    "       'maximum_minimum_nights', 'minimum_maximum_nights',\n",
    "       'maximum_maximum_nights', 'minimum_nights_avg_ntm',\n",
    "       'maximum_nights_avg_ntm', 'calendar_updated', 'has_availability',\n",
    "       'availability_30', 'availability_60', 'availability_90',\n",
    "       'availability_365', 'calendar_last_scraped', 'number_of_reviews',\n",
    "       'number_of_reviews_ltm', 'number_of_reviews_l30d', 'first_review',\n",
    "       'last_review', 'review_scores_rating', 'review_scores_accuracy',\n",
    "       'review_scores_cleanliness', 'review_scores_checkin',\n",
    "       'review_scores_communication', 'review_scores_location',\n",
    "       'review_scores_value', 'license', 'instant_bookable',\n",
    "       'calculated_host_listings_count',\n",
    "       'calculated_host_listings_count_entire_homes',\n",
    "       'calculated_host_listings_count_private_rooms',\n",
    "       'calculated_host_listings_count_shared_rooms', 'reviews_per_month']\n",
    "\n",
    "df_raw = df_initial[columns_to_keep].set_index('id')\n",
    "print(\"The dataset has {} rows and {} columns - after dropping irrelevant columns.\".format(*df_raw.shape))\n",
    "\n"
   ]
  },
  {
   "cell_type": "markdown",
   "metadata": {},
   "source": [
    "By the way, how many different **room types** do we have?"
   ]
  },
  {
   "cell_type": "code",
   "execution_count": 7,
   "metadata": {},
   "outputs": [
    {
     "data": {
      "text/plain": [
       "Entire home/apt    0.746579\n",
       "Private room       0.231592\n",
       "Shared room        0.016132\n",
       "Hotel room         0.005697\n",
       "Name: room_type, dtype: float64"
      ]
     },
     "execution_count": 7,
     "metadata": {},
     "output_type": "execute_result"
    }
   ],
   "source": [
    "df_raw.room_type.value_counts(normalize=True)"
   ]
  },
  {
   "cell_type": "markdown",
   "metadata": {},
   "source": [
    "By the way, how many different **property type** do we have?"
   ]
  },
  {
   "cell_type": "code",
   "execution_count": 8,
   "metadata": {},
   "outputs": [
    {
     "data": {
      "text/plain": [
       "Entire apartment                      0.624501\n",
       "Private room in apartment             0.165256\n",
       "Entire loft                           0.047756\n",
       "Entire condominium                    0.045041\n",
       "Private room in condominium           0.030879\n",
       "Entire house                          0.014641\n",
       "Shared room in apartment              0.010914\n",
       "Private room in house                 0.010488\n",
       "Entire serviced apartment             0.008572\n",
       "Private room in loft                  0.006761\n",
       "Private room in bed and breakfast     0.006069\n",
       "Shared room in condominium            0.002822\n",
       "Room in boutique hotel                0.002556\n",
       "Private room in villa                 0.002289\n",
       "Room in hotel                         0.002130\n",
       "Room in serviced apartment            0.001757\n",
       "Private room in serviced apartment    0.001650\n",
       "Tiny house                            0.001597\n",
       "Room in bed and breakfast             0.001544\n",
       "Private room in guest suite           0.001278\n",
       "Room in aparthotel                    0.001171\n",
       "Entire villa                          0.001065\n",
       "Private room in townhouse             0.000958\n",
       "Entire townhouse                      0.000905\n",
       "Shared room in loft                   0.000905\n",
       "Entire guest suite                    0.000799\n",
       "Private room in hostel                0.000639\n",
       "Room in hostel                        0.000586\n",
       "Shared room in hostel                 0.000532\n",
       "Private room                          0.000532\n",
       "Entire place                          0.000479\n",
       "Private room in guesthouse            0.000479\n",
       "Shared room in house                  0.000479\n",
       "Private room in tiny house            0.000373\n",
       "Shared room in bed and breakfast      0.000266\n",
       "Entire guesthouse                     0.000213\n",
       "Entire bed and breakfast              0.000160\n",
       "Camper/RV                             0.000106\n",
       "Shared room in tiny house             0.000106\n",
       "Dome house                            0.000053\n",
       "Entire home/apt                       0.000053\n",
       "Tipi                                  0.000053\n",
       "Private room in cave                  0.000053\n",
       "Private room in earth house           0.000053\n",
       "Entire bungalow                       0.000053\n",
       "Entire chalet                         0.000053\n",
       "Private room in farm stay             0.000053\n",
       "Shared room in serviced apartment     0.000053\n",
       "Private room in casa particular       0.000053\n",
       "Cave                                  0.000053\n",
       "Shared room in floor                  0.000053\n",
       "Private room in camper/rv             0.000053\n",
       "Island                                0.000053\n",
       "Name: property_type, dtype: float64"
      ]
     },
     "execution_count": 8,
     "metadata": {},
     "output_type": "execute_result"
    }
   ],
   "source": [
    "df_raw.property_type.value_counts(normalize=True)"
   ]
  },
  {
   "cell_type": "markdown",
   "metadata": {},
   "source": [
    "#### 2.2. Cleaning Columns"
   ]
  },
  {
   "cell_type": "code",
   "execution_count": 9,
   "metadata": {},
   "outputs": [
    {
     "data": {
      "text/plain": [
       "id\n",
       "6400     $100.00\n",
       "23986    $150.00\n",
       "32119    $107.00\n",
       "32649     $72.00\n",
       "37256     $55.00\n",
       "Name: price, dtype: object"
      ]
     },
     "execution_count": 9,
     "metadata": {},
     "output_type": "execute_result"
    }
   ],
   "source": [
    "df_raw['price'].head()"
   ]
  },
  {
   "cell_type": "markdown",
   "metadata": {},
   "source": [
    "Let's first check if there are any null values in the `price` column:"
   ]
  },
  {
   "cell_type": "code",
   "execution_count": 10,
   "metadata": {},
   "outputs": [
    {
     "data": {
      "text/plain": [
       "0"
      ]
     },
     "execution_count": 10,
     "metadata": {},
     "output_type": "execute_result"
    }
   ],
   "source": [
    "# checking Nan's in \"price\" column\n",
    "df_raw.price.isna().sum()"
   ]
  },
  {
   "cell_type": "markdown",
   "metadata": {},
   "source": [
    "No, so we don't need to drop any rows."
   ]
  },
  {
   "cell_type": "markdown",
   "metadata": {},
   "source": [
    "Let's remove the dollar signs in all four columns and convert the string values into numerical ones:"
   ]
  },
  {
   "cell_type": "code",
   "execution_count": 11,
   "metadata": {},
   "outputs": [],
   "source": [
    "# clean up the columns (by method chaining)\n",
    "df_raw.price = df_raw.price.str.replace('$', '').str.replace(',', '').astype(float)"
   ]
  },
  {
   "cell_type": "markdown",
   "metadata": {},
   "source": [
    "We shouldn't miss investigating the `price` - it might need some cleaning to be of use to us:"
   ]
  },
  {
   "cell_type": "code",
   "execution_count": 12,
   "metadata": {},
   "outputs": [
    {
     "data": {
      "text/plain": [
       "count    18783.000000\n",
       "mean       112.952181\n",
       "std        300.991564\n",
       "min          8.000000\n",
       "25%         50.000000\n",
       "50%         73.000000\n",
       "75%        110.000000\n",
       "max      11164.000000\n",
       "Name: price, dtype: float64"
      ]
     },
     "execution_count": 12,
     "metadata": {},
     "output_type": "execute_result"
    }
   ],
   "source": [
    "df_raw['price'].describe()"
   ]
  },
  {
   "cell_type": "code",
   "execution_count": 13,
   "metadata": {},
   "outputs": [
    {
     "data": {
      "image/png": "[encoded data removed]",
      "text/plain": [
       "<Figure size 1152x144 with 1 Axes>"
      ]
     },
     "metadata": {
      "needs_background": "light"
     },
     "output_type": "display_data"
    }
   ],
   "source": [
    "red_square = dict(markerfacecolor='r', markeredgecolor='r', marker='.')\n",
    "df_raw['price'].plot(kind='box', xlim=(0, 800), vert=False, flierprops=red_square, figsize=(16,2));"
   ]
  },
  {
   "cell_type": "markdown",
   "metadata": {},
   "source": [
    "A bit messy, as expected! \n",
    "\n",
    "75% of the apartments charge up to 112€ - but the maximum value is 11164€. Let's decide on a limit of 300€, after which the outliers seem to \"fringe\", and drop all records that charge more than that. Oddly enough, we have prices set to zero. So let's drop those records, too:"
   ]
  },
  {
   "cell_type": "code",
   "execution_count": 14,
   "metadata": {},
   "outputs": [],
   "source": [
    "df_raw.drop(df_raw[ (df_raw.price > 300) | (df_raw.price == 0) ].index, axis=0, inplace=True)"
   ]
  },
  {
   "cell_type": "code",
   "execution_count": 15,
   "metadata": {},
   "outputs": [
    {
     "data": {
      "text/plain": [
       "count    18099.000000\n",
       "mean        87.721450\n",
       "std         55.863202\n",
       "min          8.000000\n",
       "25%         50.000000\n",
       "50%         70.000000\n",
       "75%        101.000000\n",
       "max        300.000000\n",
       "Name: price, dtype: float64"
      ]
     },
     "execution_count": 15,
     "metadata": {},
     "output_type": "execute_result"
    }
   ],
   "source": [
    "df_raw['price'].describe()"
   ]
  },
  {
   "cell_type": "code",
   "execution_count": 16,
   "metadata": {},
   "outputs": [
    {
     "name": "stdout",
     "output_type": "stream",
     "text": [
      "The dataset has 18099 rows and 73 columns - after being price-wise preprocessed.\n"
     ]
    }
   ],
   "source": [
    "print(\"The dataset has {} rows and {} columns - after being price-wise preprocessed.\".format(*df_raw.shape))"
   ]
  },
  {
   "cell_type": "markdown",
   "metadata": {},
   "source": [
    "#### 2.3. Dealing with Missing Values"
   ]
  },
  {
   "cell_type": "code",
   "execution_count": 17,
   "metadata": {},
   "outputs": [
    {
     "data": {
      "text/plain": [
       "listing_url                                         0\n",
       "scrape_id                                           0\n",
       "last_scraped                                        0\n",
       "name                                               11\n",
       "description                                       390\n",
       "neighborhood_overview                            7012\n",
       "picture_url                                         0\n",
       "host_id                                             0\n",
       "host_url                                            0\n",
       "host_name                                           1\n",
       "host_since                                          1\n",
       "host_location                                      40\n",
       "host_about                                       7471\n",
       "host_response_time                               8335\n",
       "host_response_rate                               8335\n",
       "host_acceptance_rate                             4177\n",
       "host_is_superhost                                   1\n",
       "host_thumbnail_url                                  1\n",
       "host_picture_url                                    1\n",
       "host_neighbourhood                               3739\n",
       "host_listings_count                                 1\n",
       "host_total_listings_count                           1\n",
       "host_verifications                                  0\n",
       "host_has_profile_pic                                1\n",
       "host_identity_verified                              1\n",
       "neighbourhood                                    7012\n",
       "neighbourhood_cleansed                              0\n",
       "neighbourhood_group_cleansed                    18099\n",
       "latitude                                            0\n",
       "longitude                                           0\n",
       "property_type                                       0\n",
       "room_type                                           0\n",
       "accommodates                                        0\n",
       "bathrooms                                       18099\n",
       "bathrooms_text                                     13\n",
       "bedrooms                                         1437\n",
       "beds                                              102\n",
       "amenities                                           0\n",
       "price                                               0\n",
       "minimum_nights                                      0\n",
       "maximum_nights                                      0\n",
       "minimum_minimum_nights                              0\n",
       "maximum_minimum_nights                              0\n",
       "minimum_maximum_nights                              0\n",
       "maximum_maximum_nights                              0\n",
       "minimum_nights_avg_ntm                              0\n",
       "maximum_nights_avg_ntm                              0\n",
       "calendar_updated                                18099\n",
       "has_availability                                    0\n",
       "availability_30                                     0\n",
       "availability_60                                     0\n",
       "availability_90                                     0\n",
       "availability_365                                    0\n",
       "calendar_last_scraped                               0\n",
       "number_of_reviews                                   0\n",
       "number_of_reviews_ltm                               0\n",
       "number_of_reviews_l30d                              0\n",
       "first_review                                     4172\n",
       "last_review                                      4172\n",
       "review_scores_rating                             4529\n",
       "review_scores_accuracy                           4554\n",
       "review_scores_cleanliness                        4552\n",
       "review_scores_checkin                            4556\n",
       "review_scores_communication                      4553\n",
       "review_scores_location                           4556\n",
       "review_scores_value                              4557\n",
       "license                                         17774\n",
       "instant_bookable                                    0\n",
       "calculated_host_listings_count                      0\n",
       "calculated_host_listings_count_entire_homes         0\n",
       "calculated_host_listings_count_private_rooms        0\n",
       "calculated_host_listings_count_shared_rooms         0\n",
       "reviews_per_month                                4172\n",
       "dtype: int64"
      ]
     },
     "execution_count": 17,
     "metadata": {},
     "output_type": "execute_result"
    }
   ],
   "source": [
    "pd.options.display.max_rows = None\n",
    "df_raw.isna().sum()"
   ]
  },
  {
   "cell_type": "code",
   "execution_count": 18,
   "metadata": {},
   "outputs": [],
   "source": [
    "# drop columns with too many Nan's\n",
    "df_raw.drop(columns=['neighbourhood_group_cleansed', 'bathrooms'], inplace=True)"
   ]
  },
  {
   "cell_type": "code",
   "execution_count": 19,
   "metadata": {},
   "outputs": [],
   "source": [
    "# drop rows with NaN's in bathrooms and bedrooms\n",
    "df_raw.dropna(subset=['host_has_profile_pic', 'review_scores_rating', 'beds','bedrooms' ], inplace=True)"
   ]
  },
  {
   "cell_type": "code",
   "execution_count": 20,
   "metadata": {},
   "outputs": [
    {
     "data": {
      "text/plain": [
       "array(['t', 'f'], dtype=object)"
      ]
     },
     "execution_count": 20,
     "metadata": {},
     "output_type": "execute_result"
    }
   ],
   "source": [
    "df_raw.host_has_profile_pic.unique()\n",
    "# replace host_has_profile_pic Nan's with no\n",
    "df_raw.host_has_profile_pic.fillna(value='f', inplace=True)\n",
    "df_raw.host_has_profile_pic.unique()"
   ]
  },
  {
   "cell_type": "code",
   "execution_count": 21,
   "metadata": {},
   "outputs": [
    {
     "data": {
      "text/plain": [
       "listing_url                                         0\n",
       "scrape_id                                           0\n",
       "last_scraped                                        0\n",
       "name                                                3\n",
       "description                                       104\n",
       "neighborhood_overview                            4173\n",
       "picture_url                                         0\n",
       "host_id                                             0\n",
       "host_url                                            0\n",
       "host_name                                           0\n",
       "host_since                                          0\n",
       "host_location                                      16\n",
       "host_about                                       4756\n",
       "host_response_time                               5361\n",
       "host_response_rate                               5361\n",
       "host_acceptance_rate                             2079\n",
       "host_is_superhost                                   0\n",
       "host_thumbnail_url                                  0\n",
       "host_picture_url                                    0\n",
       "host_neighbourhood                               2111\n",
       "host_listings_count                                 0\n",
       "host_total_listings_count                           0\n",
       "host_verifications                                  0\n",
       "host_has_profile_pic                                0\n",
       "host_identity_verified                              0\n",
       "neighbourhood                                    4173\n",
       "neighbourhood_cleansed                              0\n",
       "latitude                                            0\n",
       "longitude                                           0\n",
       "property_type                                       0\n",
       "room_type                                           0\n",
       "accommodates                                        0\n",
       "bathrooms_text                                      3\n",
       "bedrooms                                            0\n",
       "beds                                                0\n",
       "amenities                                           0\n",
       "price                                               0\n",
       "minimum_nights                                      0\n",
       "maximum_nights                                      0\n",
       "minimum_minimum_nights                              0\n",
       "maximum_minimum_nights                              0\n",
       "minimum_maximum_nights                              0\n",
       "maximum_maximum_nights                              0\n",
       "minimum_nights_avg_ntm                              0\n",
       "maximum_nights_avg_ntm                              0\n",
       "calendar_updated                                12473\n",
       "has_availability                                    0\n",
       "availability_30                                     0\n",
       "availability_60                                     0\n",
       "availability_90                                     0\n",
       "availability_365                                    0\n",
       "calendar_last_scraped                               0\n",
       "number_of_reviews                                   0\n",
       "number_of_reviews_ltm                               0\n",
       "number_of_reviews_l30d                              0\n",
       "first_review                                        0\n",
       "last_review                                         0\n",
       "review_scores_rating                                0\n",
       "review_scores_accuracy                             27\n",
       "review_scores_cleanliness                          25\n",
       "review_scores_checkin                              29\n",
       "review_scores_communication                        26\n",
       "review_scores_location                             29\n",
       "review_scores_value                                30\n",
       "license                                         12211\n",
       "instant_bookable                                    0\n",
       "calculated_host_listings_count                      0\n",
       "calculated_host_listings_count_entire_homes         0\n",
       "calculated_host_listings_count_private_rooms        0\n",
       "calculated_host_listings_count_shared_rooms         0\n",
       "reviews_per_month                                   0\n",
       "dtype: int64"
      ]
     },
     "execution_count": 21,
     "metadata": {},
     "output_type": "execute_result"
    }
   ],
   "source": [
    "pd.options.display.max_rows = None\n",
    "df_raw.isna().sum()"
   ]
  },
  {
   "cell_type": "code",
   "execution_count": 22,
   "metadata": {},
   "outputs": [
    {
     "name": "stdout",
     "output_type": "stream",
     "text": [
      "The dataset has 12473 rows and 71 columns - after having dealt with missing values.\n"
     ]
    }
   ],
   "source": [
    "print(\"The dataset has {} rows and {} columns - after having dealt with missing values.\".format(*df_raw.shape))"
   ]
  },
  {
   "cell_type": "markdown",
   "metadata": {},
   "source": [
    "#### 2.4. Feature Engineering 1: Distance to Centroid (Duomo di Milano) of Milan\n",
    "\n"
   ]
  },
  {
   "cell_type": "markdown",
   "metadata": {},
   "source": [
    "Location is always an important factor in lodging services. To make it more descriptive, I decided to calculate each accommodation's distance to the so-called centroid of Milan instead of just relying on the neighbourhoods or areas. \n",
    "\n",
    "For our convenience, let's write a quick function that does this, apply it to each accommodation, and store the values in a new column:"
   ]
  },
  {
   "cell_type": "code",
   "execution_count": 23,
   "metadata": {},
   "outputs": [],
   "source": [
    "from geopy.distance import great_circle"
   ]
  },
  {
   "cell_type": "code",
   "execution_count": null,
   "metadata": {},
   "outputs": [],
   "source": [
    "def distance_to_mid(lat, lon):\n",
    "    milan_centre = ( 45.4641, 9.1919)\n",
    "    accommodation = (lat, lon)\n",
    "    return great_circle(milan_centre, accommodation).km"
   ]
  },
  {
   "cell_type": "code",
   "execution_count": null,
   "metadata": {},
   "outputs": [],
   "source": [
    "df_raw['distance'] = df_raw.apply(lambda x: distance_to_mid(x.latitude, x.longitude), axis=1)"
   ]
  },
  {
   "cell_type": "code",
   "execution_count": null,
   "metadata": {},
   "outputs": [],
   "source": [
    "df_raw.head()"
   ]
  },
  {
   "cell_type": "markdown",
   "metadata": {},
   "source": [
    "#### 2.6. Feature Engineering 3: Lodging Amenities"
   ]
  },
  {
   "cell_type": "markdown",
   "metadata": {},
   "source": [
    "I'm interested in what amenities hosts offer their guests, and in order to enrich our prediction, whether we can determine what some of the more special and/or rare amenities might be that make a property more desirable."
   ]
  },
  {
   "cell_type": "code",
   "execution_count": null,
   "metadata": {},
   "outputs": [],
   "source": [
    "from collections import Counter"
   ]
  },
  {
   "cell_type": "code",
   "execution_count": null,
   "metadata": {},
   "outputs": [],
   "source": [
    "results = Counter()\n",
    "df_raw['amenities'].str.strip('{}')\\\n",
    "               .str.replace('\"', '')\\\n",
    "               .str.lstrip('\\\"')\\\n",
    "               .str.rstrip('\\\"')\\\n",
    "               .str.split(',')\\\n",
    "               .apply(results.update)\n",
    "\n",
    "results.most_common(30)"
   ]
  },
  {
   "cell_type": "code",
   "execution_count": null,
   "metadata": {},
   "outputs": [],
   "source": [
    "# create a new dataframe\n",
    "sub_df = pd.DataFrame(results.most_common(30), columns=['amenity', 'count'])"
   ]
  },
  {
   "cell_type": "code",
   "execution_count": null,
   "metadata": {},
   "outputs": [],
   "source": [
    "# plot the Top 20\n",
    "sub_df.sort_values(by=['count'], ascending=True).plot(kind='barh', x='amenity', y='count',  \n",
    "                                                      figsize=(10,7), legend=False, color='darkgrey',\n",
    "                                                      title='Amenities')\n",
    "plt.xlabel('Count');"
   ]
  },
  {
   "cell_type": "markdown",
   "metadata": {},
   "source": [
    "Let's add columns with amenities that are somewhat unique and not offered by all hosts: \n",
    "- a Heating\n",
    "- a TV\n",
    "- Wifi\n",
    "- Kitchen\n",
    "- Essentials and\n",
    "- Hair dryer.\n",
    "\n",
    "After doing this, let's drop the original column:"
   ]
  },
  {
   "cell_type": "code",
   "execution_count": null,
   "metadata": {},
   "outputs": [],
   "source": [
    "df_raw['Heating'] = df_raw['amenities'].str.contains('Heating')\n",
    "df_raw['TV'] = df_raw['amenities'].str.contains('TV')\n",
    "df_raw['Wifi'] = df_raw['amenities'].str.contains('Wifi')\n",
    "df_raw['Kitchen'] = df_raw['amenities'].str.contains('Kitchen')\n",
    "df_raw['Essentials'] = df_raw['amenities'].str.contains('Essentials')\n",
    "df_raw['Hair dryer'] = df_raw['amenities'].str.contains('Hair dryer')"
   ]
  },
  {
   "cell_type": "code",
   "execution_count": null,
   "metadata": {},
   "outputs": [],
   "source": [
    "df_raw.drop(['amenities'], axis=1, inplace=True)"
   ]
  },
  {
   "cell_type": "markdown",
   "metadata": {},
   "source": [
    "### 3. Exploratory Data Analysis (EDA)"
   ]
  },
  {
   "cell_type": "markdown",
   "metadata": {},
   "source": [
    "**> Price Differences on a Map**"
   ]
  },
  {
   "cell_type": "code",
   "execution_count": null,
   "metadata": {},
   "outputs": [],
   "source": [
    "df_raw.plot(kind=\"scatter\", x=\"longitude\", y=\"latitude\", alpha=0.4, figsize=(10,7), \n",
    "        c=\"price\", cmap=\"gist_heat_r\", colorbar=True, sharex=False);"
   ]
  },
  {
   "cell_type": "markdown",
   "metadata": {},
   "source": [
    "**> Price Differences by Neighbourhood**"
   ]
  },
  {
   "cell_type": "code",
   "execution_count": null,
   "metadata": {},
   "outputs": [],
   "source": [
    "df_raw['neighbourhood_cleansed'].value_counts().sort_values().plot(kind='barh',figsize=(10,30), color='darkgrey')\n",
    "plt.title('Number of Accommodations per District');"
   ]
  },
  {
   "cell_type": "code",
   "execution_count": null,
   "metadata": {},
   "outputs": [],
   "source": [
    "# group_by neighbourhood groups, take the median price and store new values in sub_df \n",
    "df_raw_grouped = pd.DataFrame(df_raw.groupby(['neighbourhood_cleansed'])['price'].agg(np.median))\n",
    "df_raw_grouped.reset_index(inplace=True)\n",
    "\n",
    "# plot this \n",
    "df_raw_grouped.sort_values(by=['price'], ascending=True)\\\n",
    "          .plot(kind='barh', x='neighbourhood_cleansed', y='price', \n",
    "                figsize=(10,30), legend=False, color='salmon')\n",
    "\n",
    "plt.xlabel('\\nMedian Price', fontsize=12)\n",
    "plt.ylabel('District\\n', fontsize=12)\n",
    "plt.title('\\nMedian Prices by Neighbourhood\\n', fontsize=14, fontweight='bold');"
   ]
  },
  {
   "cell_type": "code",
   "execution_count": null,
   "metadata": {},
   "outputs": [],
   "source": [
    "red_square = dict(markerfacecolor='salmon', markeredgecolor='salmon', marker='.')\n",
    "\n",
    "df_raw.boxplot(column='price', by='neighbourhood_cleansed', \n",
    "           flierprops=red_square, vert=False, figsize=(10,30))\n",
    "\n",
    "plt.xlabel('\\nMedian Price', fontsize=12)\n",
    "plt.ylabel('District\\n', fontsize=12)\n",
    "plt.title('\\nBoxplot: Prices by Neighbourhood\\n', fontsize=14, fontweight='bold')\n",
    "\n",
    "# get rid of automatic boxplot title\n",
    "plt.suptitle('');"
   ]
  },
  {
   "cell_type": "markdown",
   "metadata": {},
   "source": [
    "**> Price Differences by Accommodation Distance to Center of Berlin**"
   ]
  },
  {
   "cell_type": "code",
   "execution_count": null,
   "metadata": {},
   "outputs": [],
   "source": [
    "df_raw.plot.scatter(x=\"distance\", y=\"price\", figsize=(9,6), c='dimgrey')\n",
    "plt.title('\\nRelation between Distance & Median Price\\n', fontsize=14, fontweight='bold');"
   ]
  },
  {
   "cell_type": "code",
   "execution_count": null,
   "metadata": {},
   "outputs": [],
   "source": [
    "sns.jointplot(x=df_raw[\"distance\"], y=df_raw[\"price\"], kind='hex')\n",
    "plt.title('\\nRelation between Distance & Median Price\\n', fontsize=14, fontweight='bold');"
   ]
  },
  {
   "cell_type": "markdown",
   "metadata": {},
   "source": [
    "**> Price Differences by Number of Bedrooms**"
   ]
  },
  {
   "cell_type": "code",
   "execution_count": null,
   "metadata": {},
   "outputs": [],
   "source": [
    "plt.figure(figsize=(10,30))\n",
    "sns.heatmap(df_raw.groupby(['neighbourhood_cleansed', 'bedrooms']).price.median().unstack(), \n",
    "            cmap='Reds', annot=True, fmt=\".0f\")\n",
    "\n",
    "plt.xlabel('\\nBedrooms', fontsize=12)\n",
    "plt.ylabel('District\\n', fontsize=12)\n",
    "plt.title('\\nHeatmap: Median Prices by Neighbourhood and Number of Bedrooms\\n\\n', fontsize=14, fontweight='bold');"
   ]
  },
  {
   "cell_type": "markdown",
   "metadata": {},
   "source": [
    "**> Price Differences by review scores rating**"
   ]
  },
  {
   "cell_type": "code",
   "execution_count": null,
   "metadata": {},
   "outputs": [],
   "source": [
    "# group_by neighbourhood groups, take the median price and store new values in sub_df \n",
    "df_raw_grouped = pd.DataFrame(df_raw.groupby(['review_scores_rating'])['price'].agg(np.median))\n",
    "df_raw_grouped.reset_index(inplace=True)\n",
    "\n",
    "# plot this \n",
    "df_raw_grouped.sort_values(by=['price'], ascending=True)\\\n",
    "          .plot(kind='barh', x='review_scores_rating', y='price', \n",
    "                figsize=(10,30), legend=False, color='darkblue')\n",
    "\n",
    "plt.xlabel('\\nMedian Price', fontsize=12)\n",
    "plt.ylabel('Review scores rating\\n', fontsize=12)\n",
    "plt.title('\\nMedian Prices by Review scores rating\\n', fontsize=14, fontweight='bold');"
   ]
  },
  {
   "cell_type": "markdown",
   "metadata": {},
   "source": [
    "### 4. Modeling the Data"
   ]
  },
  {
   "cell_type": "markdown",
   "metadata": {},
   "source": [
    "#### 4.1. Preparing Target and Features"
   ]
  },
  {
   "cell_type": "code",
   "execution_count": null,
   "metadata": {},
   "outputs": [],
   "source": [
    "df_raw.columns"
   ]
  },
  {
   "cell_type": "code",
   "execution_count": null,
   "metadata": {},
   "outputs": [],
   "source": [
    "df_raw.info()"
   ]
  },
  {
   "cell_type": "markdown",
   "metadata": {},
   "source": [
    "Now let's convert all string columns into categorical ones:"
   ]
  },
  {
   "cell_type": "code",
   "execution_count": null,
   "metadata": {},
   "outputs": [],
   "source": [
    "df_raw.drop(['latitude', 'longitude', 'neighbourhood_cleansed', 'property_type','host_response_time', 'host_response_rate', 'host_acceptance_rate',\n",
    "       'host_is_superhost', 'host_thumbnail_url',\n",
    "       'host_neighbourhood', 'host_listings_count',\n",
    "       'host_total_listings_count', 'host_verifications',\n",
    "       'host_has_profile_pic', 'host_identity_verified', 'neighbourhood',\n",
    "       'accommodates', 'bathrooms_text', 'bedrooms', \n",
    "       'price', 'minimum_nights', 'maximum_nights', 'minimum_minimum_nights',\n",
    "       'maximum_minimum_nights', 'minimum_maximum_nights',\n",
    "       'maximum_maximum_nights', 'minimum_nights_avg_ntm',\n",
    "       'maximum_nights_avg_ntm', 'calendar_updated', 'has_availability',\n",
    "       'availability_30', 'availability_60', 'availability_90',\n",
    "       'availability_365', 'calendar_last_scraped', 'number_of_reviews',\n",
    "       'number_of_reviews_ltm', 'number_of_reviews_l30d', 'first_review',\n",
    "       'last_review', 'review_scores_rating', 'review_scores_accuracy',\n",
    "       'review_scores_cleanliness', 'review_scores_checkin',\n",
    "       'review_scores_communication', 'review_scores_location',\n",
    "       'review_scores_value', 'license','calculated_host_listings_count',\n",
    "       'calculated_host_listings_count_entire_homes',\n",
    "       'calculated_host_listings_count_private_rooms',\n",
    "       'calculated_host_listings_count_shared_rooms', 'reviews_per_month'], axis=1, inplace=True)"
   ]
  },
  {
   "cell_type": "code",
   "execution_count": null,
   "metadata": {},
   "outputs": [],
   "source": [
    "for col in ['host_picture_url', 'room_type', 'beds','instant_bookable']:\n",
    "    df_raw[col] = df_raw[col].astype('category')"
   ]
  },
  {
   "cell_type": "code",
   "execution_count": null,
   "metadata": {},
   "outputs": [],
   "source": [
    "# define our target\n",
    "target = df_raw[[\"price\"]]\n",
    "\n",
    "# define our features \n",
    "features = df_raw.drop([\"price\"], axis=1)"
   ]
  },
  {
   "cell_type": "markdown",
   "metadata": {},
   "source": [
    "***Recoding Categorical Features***"
   ]
  },
  {
   "cell_type": "markdown",
   "metadata": {},
   "source": [
    "Machine learning algorithms generally need all data - including categorical data - in numeric form. To satisfy these algorithms, categorical features are converted into separate binary features called dummy variables. Therefore, we have to find a way to represent these variables as numbers before handing them off to the model. One typical way of doing this in one-hot encoding, which creates a new column for each unique category in a categorical variable. Each observation receives a 1 in the column for its corresponding category (= \"HOT\") and a 0 in all other new columns. To conduct one-hot encoding, we use the pandas get_dummies function."
   ]
  },
  {
   "cell_type": "code",
   "execution_count": null,
   "metadata": {},
   "outputs": [],
   "source": [
    "num_feats = features.select_dtypes(include=['float64', 'int64', 'bool']).copy()\n",
    "\n",
    "# one-hot encoding of categorical features\n",
    "cat_feats = features.select_dtypes(include=['category']).copy()\n",
    "cat_feats = pd.get_dummies(cat_feats)"
   ]
  },
  {
   "cell_type": "code",
   "execution_count": null,
   "metadata": {},
   "outputs": [],
   "source": [
    "features_recoded = pd.concat([num_feats, cat_feats], axis=1)"
   ]
  },
  {
   "cell_type": "code",
   "execution_count": null,
   "metadata": {},
   "outputs": [],
   "source": [
    "print(features_recoded.shape)\n"
   ]
  },
  {
   "cell_type": "code",
   "execution_count": null,
   "metadata": {},
   "outputs": [],
   "source": [
    "features_recoded.head(2)"
   ]
  },
  {
   "cell_type": "markdown",
   "metadata": {},
   "source": [
    "#### 4.2. Splitting and Scaling the Data"
   ]
  },
  {
   "cell_type": "code",
   "execution_count": null,
   "metadata": {},
   "outputs": [],
   "source": [
    "# import train_test_split function\n",
    "from sklearn.model_selection import train_test_split\n",
    "# import metrics\n",
    "from sklearn.metrics import mean_squared_error, r2_score\n",
    "\n",
    "# split our data\n",
    "X_train, X_test, y_train, y_test = train_test_split(features_recoded, target, test_size=0.2)"
   ]
  },
  {
   "cell_type": "markdown",
   "metadata": {},
   "source": [
    "One of the challenges in building models is mixing features that have different scales. Look at our dataset and compare bathrooms with size or maximum_nights. When we mix units with ranges that have different orders of magnitude, our models may not be able to find the proper coefficients. To account for this problem, we standardize or normalize the features."
   ]
  },
  {
   "cell_type": "code",
   "execution_count": null,
   "metadata": {},
   "outputs": [],
   "source": [
    "# scale data\n",
    "from sklearn.preprocessing import StandardScaler\n",
    "sc = StandardScaler()\n",
    "X_train = sc.fit_transform(X_train)\n",
    "X_test  = sc.transform(X_test)"
   ]
  },
  {
   "cell_type": "markdown",
   "metadata": {},
   "source": [
    "#### 4.3. Training an XGBoost Regressor"
   ]
  },
  {
   "cell_type": "code",
   "execution_count": null,
   "metadata": {},
   "outputs": [],
   "source": [
    "# create a baseline\n",
    "booster = xgb.XGBRegressor()"
   ]
  },
  {
   "cell_type": "markdown",
   "metadata": {},
   "source": [
    "Some of the important hyperparameters to tune an XGBoost are:\n",
    "- `n_estimators` $\\;\\;\\;\\;\\;$ = Number of trees one wants to build.\n",
    "- `learning_rate` $\\;\\;\\;\\;$= Rate at which our model learns patterns in data. After every round, it shrinks the feature weights to reach the best optimum.\n",
    "- `max_depth` $\\;\\;\\;\\;\\;\\;\\;\\;\\;\\;\\;$= Determines how deeply each tree is allowed to grow during any boosting round.\n",
    "- `colsample_bytree` = Percentage of features used per tree. \n",
    "- `gamma` $\\;\\;\\;\\;\\;\\;\\;\\;\\;\\;\\;\\;\\;\\;\\;\\;\\;$= Specifies the minimum loss reduction required to make a split."
   ]
  },
  {
   "cell_type": "code",
   "execution_count": null,
   "metadata": {},
   "outputs": [],
   "source": [
    "from sklearn.model_selection import GridSearchCV\n",
    "\n",
    "# create Grid\n",
    "param_grid = {'n_estimators': [100, 150, 200],\n",
    "              'learning_rate': [0.01, 0.05, 0.1], \n",
    "              'max_depth': [3, 4, 5, 6, 7],\n",
    "              'colsample_bytree': [0.6, 0.7, 1],\n",
    "              'gamma': [0.0, 0.1, 0.2]}\n",
    "\n",
    "# instantiate the tuned random forest\n",
    "booster_grid_search = GridSearchCV(booster, param_grid, cv=3, n_jobs=-1)\n",
    "\n",
    "# train the tuned random forest\n",
    "booster_grid_search.fit(X_train, y_train)\n",
    "\n",
    "# print best estimator parameters found during the grid search\n",
    "print(booster_grid_search.best_params_)"
   ]
  },
  {
   "cell_type": "code",
   "execution_count": null,
   "metadata": {},
   "outputs": [],
   "source": [
    "# instantiate xgboost with best parameters\n",
    "booster = xgb.XGBRegressor(colsample_bytree=0.7, gamma=0.2, learning_rate=0.1, \n",
    "                           max_depth=6, n_estimators=200, random_state=4)\n",
    "\n",
    "# train\n",
    "booster.fit(X_train, y_train)\n",
    "\n",
    "# predict\n",
    "y_pred_train = booster.predict(X_train)\n",
    "y_pred_test = booster.predict(X_test)"
   ]
  },
  {
   "cell_type": "code",
   "execution_count": null,
   "metadata": {},
   "outputs": [],
   "source": [
    "RMSE = np.sqrt(mean_squared_error(y_test, y_pred_test))\n",
    "print(f\"RMSE: {round(RMSE, 4)}\")"
   ]
  },
  {
   "cell_type": "code",
   "execution_count": null,
   "metadata": {},
   "outputs": [],
   "source": [
    "r2 = r2_score(y_test, y_pred_test)\n",
    "r2\n",
    "print(f\"r2: {round(r2, 4)}\")"
   ]
  },
  {
   "cell_type": "markdown",
   "metadata": {},
   "source": [
    "#### 4.4. Cross Validation"
   ]
  },
  {
   "cell_type": "markdown",
   "metadata": {},
   "source": [
    "In order to build more robust models, it is common to conduct a k-fold cross validation where all the entries in the original training dataset are used for both training and validation. XGBoost supports k-fold cross validation via the cv method. All we have to do is specify the `nfolds` parameter, which is the number of cross validation rounds you want to build. \n",
    "\n",
    "Also, it supports many other parameters:\n",
    "- `num_boost_round` $\\;\\;\\;\\;\\;\\;\\;\\;$ = Specifies the number of trees to build (analogous to n_estimators).\n",
    "- `metrics` $\\;\\;\\;\\;\\;\\;\\;\\;\\;\\;\\;\\;\\;\\;\\;\\;\\;\\;\\;\\;\\;$ = Specifies the evaluation metrics to be checked during CV.\n",
    "- `as_pandas` $\\;\\;\\;\\;\\;\\;\\;\\;\\;\\;\\;\\;\\;\\;\\;\\;\\;\\;\\;$= Returns the results in a decent pandas DataFrame.\n",
    "- `early_stopping_rounds` = Finishes model training early if the hold-out metric does not improve for a given number of rounds. \n",
    "\n",
    "We will have to first convert the dataset into an optimized data structure called DMatrix so that XGBoost's cross validation method is supported."
   ]
  },
  {
   "cell_type": "code",
   "execution_count": null,
   "metadata": {},
   "outputs": [],
   "source": [
    "xg_train = xgb.DMatrix(data=X_train, label=y_train)"
   ]
  },
  {
   "cell_type": "code",
   "execution_count": null,
   "metadata": {},
   "outputs": [],
   "source": [
    "params = {'colsample_bytree':0.6, 'gamma':0.2, 'learning_rate':0.05, 'max_depth':6}\n",
    "\n",
    "cv_results = xgb.cv(dtrain=xg_train, params=params, nfold=3,\n",
    "                    num_boost_round=200, early_stopping_rounds=10, \n",
    "                    metrics=\"rmse\", as_pandas=True)"
   ]
  },
  {
   "cell_type": "code",
   "execution_count": null,
   "metadata": {},
   "outputs": [],
   "source": [
    "cv_results.head()"
   ]
  },
  {
   "cell_type": "code",
   "execution_count": null,
   "metadata": {},
   "outputs": [],
   "source": []
  },
  {
   "cell_type": "code",
   "execution_count": null,
   "metadata": {},
   "outputs": [],
   "source": []
  },
  {
   "cell_type": "code",
   "execution_count": null,
   "metadata": {},
   "outputs": [],
   "source": []
  }
 ],
 "metadata": {
  "kernelspec": {
   "display_name": "Python 3",
   "language": "python",
   "name": "python3"
  },
  "language_info": {
   "codemirror_mode": {
    "name": "ipython",
    "version": 3
   },
   "file_extension": ".py",
   "mimetype": "text/x-python",
   "name": "python",
   "nbconvert_exporter": "python",
   "pygments_lexer": "ipython3",
   "version": "3.6.11"
  },
  "latex_envs": {
   "LaTeX_envs_menu_present": true,
   "autoclose": false,
   "autocomplete": true,
   "bibliofile": "biblio.bib",
   "cite_by": "apalike",
   "current_citInitial": 1,
   "eqLabelWithNumbers": true,
   "eqNumInitial": 1,
   "hotkeys": {
    "equation": "Ctrl-E",
    "itemize": "Ctrl-I"
   },
   "labels_anchors": false,
   "latex_user_defs": false,
   "report_style_numbering": false,
   "user_envs_cfg": false
  }
 },
 "nbformat": 4,
 "nbformat_minor": 4
}
