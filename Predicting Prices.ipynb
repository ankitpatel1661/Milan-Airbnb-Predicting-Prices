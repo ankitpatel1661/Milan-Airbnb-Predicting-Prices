{
 "cells": [
  {
   "cell_type": "markdown",
   "metadata": {},
   "source": [
    "## Predicting the price for an Airbnb Host in Milan"
   ]
  },
  {
   "cell_type": "markdown",
   "metadata": {},
   "source": [
    "Airbnb has successfully disrupted the traditional hospitality industry as more and more travelers decide to use Airbnb as their primary accommodation provider. Since its inception in 2008, Airbnb has seen an enormous growth, with the number of rentals listed on its website growing exponentially each year.\n",
    "\n",
    "In Italy, no city is more popular than Milan for tech industry as well as  for tourism industry. That implies that Milan is one of the hottest markets for Airbnb in Europe, with over 18,783 listings as of August 2020. With a size of 181.8 km², this means there are roughly 104 homes being rented out per km² in Berlin on Airbnb!\n",
    "\n",
    "Considering the possibility that I might have to relocate for a new data science job, but want to keep my current flate (which is quite cheap!), I might wonder if it could be worth it to offer my jewel on Airbnb. Could this perhaps be a profitable option? However, it is difficult for potential hosts to know what the true value of their home is, and how in-demand their home might be. And since location and furniture are obviously fixed for the most part, is there anything else a host can influence - such as description, communication patterns, and/or additional services to boost their earnings?\n",
    "\n",
    "The following question will drive this project:<br>\n",
    "> **Can we determine a fairly spot-on daily price for a new accommodation that fits into its specific market environment and competitors in Milan?** <br>\n",
    "\n",
    "The question focuses on the accommodation features and decisions a new host can make with regards to initial presentation, i.e. posting a picture of him- or herself on the website, determining a minimum length of stay, offering instant bookings etc. A machine learning algorithm will be applied to try to get an answer. \n",
    "\n",
    "### The dataset\n",
    "\n",
    "In the first notebook, I will perform an analysis of the detailed Milan listings data, sourced from the Inside Airbnb website, in order to understand the rental landscape and try to recommend a price for a newbie entering the market. The dataset is named `listings.csv.gz` and was scraped on September 02nd 2020."
   ]
  },
  {
   "cell_type": "markdown",
   "metadata": {},
   "source": [
    "### 1. Obtaining and Viewing the Data \n"
   ]
  },
  {
   "cell_type": "code",
   "execution_count": 40,
   "metadata": {},
   "outputs": [],
   "source": [
    "import pandas as pd \n",
    "import numpy as np\n",
    "\n",
    "import matplotlib.pyplot as plt\n",
    "plt.style.use('seaborn')\n",
    "import seaborn as sns\n",
    "\n",
    "import re\n",
    "import xgboost as xgb\n",
    "\n",
    "import warnings\n",
    "warnings.filterwarnings(\"ignore\")"
   ]
  },
  {
   "cell_type": "code",
   "execution_count": 41,
   "metadata": {
    "scrolled": true
   },
   "outputs": [
    {
     "name": "stdout",
     "output_type": "stream",
     "text": [
      "The dataset has 18783 rows and 16 columns.\n",
      "It contains 0 duplicates.\n"
     ]
    }
   ],
   "source": [
    "df_initial = pd.read_csv('C:/Users/Ankit Patel/Documents/GitHub/Milan Airbnb Prediction/dataset/listings_summary.csv')\n",
    "\n",
    "# checking shape\n",
    "print(\"The dataset has {} rows and {} columns.\".format(*df_initial.shape))\n",
    "\n",
    "# ... and duplicates\n",
    "print(\"It contains {} duplicates.\".format(df_initial.duplicated().sum()))"
   ]
  },
  {
   "cell_type": "code",
   "execution_count": 42,
   "metadata": {},
   "outputs": [
    {
     "data": {
      "text/html": [
       "<div>\n",
       "<style scoped>\n",
       "    .dataframe tbody tr th:only-of-type {\n",
       "        vertical-align: middle;\n",
       "    }\n",
       "\n",
       "    .dataframe tbody tr th {\n",
       "        vertical-align: top;\n",
       "    }\n",
       "\n",
       "    .dataframe thead th {\n",
       "        text-align: right;\n",
       "    }\n",
       "</style>\n",
       "<table border=\"1\" class=\"dataframe\">\n",
       "  <thead>\n",
       "    <tr style=\"text-align: right;\">\n",
       "      <th></th>\n",
       "      <th>id</th>\n",
       "      <th>name</th>\n",
       "      <th>host_id</th>\n",
       "      <th>host_name</th>\n",
       "      <th>neighbourhood_group</th>\n",
       "      <th>neighbourhood</th>\n",
       "      <th>latitude</th>\n",
       "      <th>longitude</th>\n",
       "      <th>room_type</th>\n",
       "      <th>price</th>\n",
       "      <th>minimum_nights</th>\n",
       "      <th>number_of_reviews</th>\n",
       "      <th>last_review</th>\n",
       "      <th>reviews_per_month</th>\n",
       "      <th>calculated_host_listings_count</th>\n",
       "      <th>availability_365</th>\n",
       "    </tr>\n",
       "  </thead>\n",
       "  <tbody>\n",
       "    <tr>\n",
       "      <th>0</th>\n",
       "      <td>6400</td>\n",
       "      <td>The Studio Milan</td>\n",
       "      <td>13822</td>\n",
       "      <td>Francesca</td>\n",
       "      <td>NaN</td>\n",
       "      <td>TIBALDI</td>\n",
       "      <td>45.44195</td>\n",
       "      <td>9.17797</td>\n",
       "      <td>Private room</td>\n",
       "      <td>100</td>\n",
       "      <td>4</td>\n",
       "      <td>12</td>\n",
       "      <td>2019-04-13</td>\n",
       "      <td>0.10</td>\n",
       "      <td>1</td>\n",
       "      <td>358</td>\n",
       "    </tr>\n",
       "    <tr>\n",
       "      <th>1</th>\n",
       "      <td>23986</td>\n",
       "      <td>\" Characteristic Milanese flat\"</td>\n",
       "      <td>95941</td>\n",
       "      <td>Jeremy</td>\n",
       "      <td>NaN</td>\n",
       "      <td>NAVIGLI</td>\n",
       "      <td>45.44991</td>\n",
       "      <td>9.17597</td>\n",
       "      <td>Entire home/apt</td>\n",
       "      <td>150</td>\n",
       "      <td>1</td>\n",
       "      <td>14</td>\n",
       "      <td>2019-09-02</td>\n",
       "      <td>0.14</td>\n",
       "      <td>1</td>\n",
       "      <td>359</td>\n",
       "    </tr>\n",
       "    <tr>\n",
       "      <th>2</th>\n",
       "      <td>32119</td>\n",
       "      <td>Nico &amp; Cynthia's Easy Yellow Suite</td>\n",
       "      <td>138683</td>\n",
       "      <td>Nico&amp;Cinzia</td>\n",
       "      <td>NaN</td>\n",
       "      <td>VIALE MONZA</td>\n",
       "      <td>45.51988</td>\n",
       "      <td>9.22310</td>\n",
       "      <td>Entire home/apt</td>\n",
       "      <td>107</td>\n",
       "      <td>3</td>\n",
       "      <td>15</td>\n",
       "      <td>2018-07-01</td>\n",
       "      <td>0.12</td>\n",
       "      <td>4</td>\n",
       "      <td>364</td>\n",
       "    </tr>\n",
       "    <tr>\n",
       "      <th>3</th>\n",
       "      <td>32649</td>\n",
       "      <td>Nico&amp;Cinzia's Red Easy Suite!</td>\n",
       "      <td>138683</td>\n",
       "      <td>Nico&amp;Cinzia</td>\n",
       "      <td>NaN</td>\n",
       "      <td>VIALE MONZA</td>\n",
       "      <td>45.51942</td>\n",
       "      <td>9.22615</td>\n",
       "      <td>Entire home/apt</td>\n",
       "      <td>72</td>\n",
       "      <td>3</td>\n",
       "      <td>29</td>\n",
       "      <td>2019-07-07</td>\n",
       "      <td>0.24</td>\n",
       "      <td>4</td>\n",
       "      <td>364</td>\n",
       "    </tr>\n",
       "    <tr>\n",
       "      <th>4</th>\n",
       "      <td>37256</td>\n",
       "      <td>COZY FULLY FURNISHED PRIVATE STUDIO CITY CENTER</td>\n",
       "      <td>119002</td>\n",
       "      <td>Giancarlo</td>\n",
       "      <td>NaN</td>\n",
       "      <td>GUASTALLA</td>\n",
       "      <td>45.47074</td>\n",
       "      <td>9.20578</td>\n",
       "      <td>Private room</td>\n",
       "      <td>55</td>\n",
       "      <td>2</td>\n",
       "      <td>34</td>\n",
       "      <td>2019-11-03</td>\n",
       "      <td>0.29</td>\n",
       "      <td>2</td>\n",
       "      <td>328</td>\n",
       "    </tr>\n",
       "  </tbody>\n",
       "</table>\n",
       "</div>"
      ],
      "text/plain": [
       "      id                                             name  host_id  \\\n",
       "0   6400                                 The Studio Milan    13822   \n",
       "1  23986                  \" Characteristic Milanese flat\"    95941   \n",
       "2  32119               Nico & Cynthia's Easy Yellow Suite   138683   \n",
       "3  32649                    Nico&Cinzia's Red Easy Suite!   138683   \n",
       "4  37256  COZY FULLY FURNISHED PRIVATE STUDIO CITY CENTER   119002   \n",
       "\n",
       "     host_name  neighbourhood_group neighbourhood  latitude  longitude  \\\n",
       "0    Francesca                  NaN       TIBALDI  45.44195    9.17797   \n",
       "1       Jeremy                  NaN       NAVIGLI  45.44991    9.17597   \n",
       "2  Nico&Cinzia                  NaN   VIALE MONZA  45.51988    9.22310   \n",
       "3  Nico&Cinzia                  NaN   VIALE MONZA  45.51942    9.22615   \n",
       "4    Giancarlo                  NaN     GUASTALLA  45.47074    9.20578   \n",
       "\n",
       "         room_type  price  minimum_nights  number_of_reviews last_review  \\\n",
       "0     Private room    100               4                 12  2019-04-13   \n",
       "1  Entire home/apt    150               1                 14  2019-09-02   \n",
       "2  Entire home/apt    107               3                 15  2018-07-01   \n",
       "3  Entire home/apt     72               3                 29  2019-07-07   \n",
       "4     Private room     55               2                 34  2019-11-03   \n",
       "\n",
       "   reviews_per_month  calculated_host_listings_count  availability_365  \n",
       "0               0.10                               1               358  \n",
       "1               0.14                               1               359  \n",
       "2               0.12                               4               364  \n",
       "3               0.24                               4               364  \n",
       "4               0.29                               2               328  "
      ]
     },
     "execution_count": 42,
     "metadata": {},
     "output_type": "execute_result"
    }
   ],
   "source": [
    "df_initial[:5]"
   ]
  },
  {
   "cell_type": "code",
   "execution_count": 43,
   "metadata": {},
   "outputs": [
    {
     "data": {
      "text/plain": [
       "Index(['id', 'name', 'host_id', 'host_name', 'neighbourhood_group',\n",
       "       'neighbourhood', 'latitude', 'longitude', 'room_type', 'price',\n",
       "       'minimum_nights', 'number_of_reviews', 'last_review',\n",
       "       'reviews_per_month', 'calculated_host_listings_count',\n",
       "       'availability_365'],\n",
       "      dtype='object')"
      ]
     },
     "execution_count": 43,
     "metadata": {},
     "output_type": "execute_result"
    }
   ],
   "source": [
    "# check the columns we currently have\n",
    "df_initial.columns"
   ]
  },
  {
   "cell_type": "markdown",
   "metadata": {},
   "source": [
    "### 2. Preprocessing the Data\n",
    "#### 2.1. Deciding which columns to work with\n",
    "Let's imagine we are in the shoes of someone who'd like to offer their home. Fixed features of our property include its rooms, size, and location. We also can decide on how we want to be listed: with a picture or not, how many minimum nights we want a guest to stay, whether we are instantly bookable, how we handle cancellations, etc. But we can neither be a \"super host\", nor do we have any reviews yet to show - although they can be very important for setting a price. So, let's focus only on features we can influence:"
   ]
  },
  {
   "cell_type": "code",
   "execution_count": 44,
   "metadata": {
    "scrolled": true
   },
   "outputs": [
    {
     "name": "stdout",
     "output_type": "stream",
     "text": [
      "The dataset has 18783 rows and 14 columns - after dropping irrelevant columns.\n"
     ]
    }
   ],
   "source": [
    "# define the columns we want to keep\n",
    "columns_to_keep = ['id', 'name', 'host_id', 'host_name', \n",
    "                   'neighbourhood', 'latitude', 'longitude', 'room_type', 'price',\n",
    "       'minimum_nights', 'number_of_reviews', 'last_review',\n",
    "       'reviews_per_month', 'calculated_host_listings_count',\n",
    "       'availability_365']\n",
    "\n",
    "df_raw = df_initial[columns_to_keep].set_index('id')\n",
    "print(\"The dataset has {} rows and {} columns - after dropping irrelevant columns.\".format(*df_raw.shape))"
   ]
  },
  {
   "cell_type": "markdown",
   "metadata": {},
   "source": [
    "By the way, how many different **room types** do we have?"
   ]
  },
  {
   "cell_type": "code",
   "execution_count": 27,
   "metadata": {},
   "outputs": [
    {
     "data": {
      "text/plain": [
       "Entire home/apt    0.746579\n",
       "Private room       0.231592\n",
       "Shared room        0.016132\n",
       "Hotel room         0.005697\n",
       "Name: room_type, dtype: float64"
      ]
     },
     "execution_count": 27,
     "metadata": {},
     "output_type": "execute_result"
    }
   ],
   "source": [
    "df_raw.room_type.value_counts(normalize=True)"
   ]
  },
  {
   "cell_type": "markdown",
   "metadata": {},
   "source": [
    "By the way, how many different **neighberhood** do we have?"
   ]
  },
  {
   "cell_type": "code",
   "execution_count": 46,
   "metadata": {},
   "outputs": [
    {
     "data": {
      "text/plain": [
       "BUENOS AIRES - VENEZIA    0.077730\n",
       "DUOMO                     0.051589\n",
       "NAVIGLI                   0.047437\n",
       "SARPI                     0.044082\n",
       "TICINESE                  0.040941\n",
       "                            ...   \n",
       "PARCO NORD                0.000160\n",
       "PARCO AGRICOLO SUD        0.000053\n",
       "QUINTOSOLE                0.000053\n",
       "STEPHENSON                0.000053\n",
       "RONCHETTO DELLE RANE      0.000053\n",
       "Name: neighbourhood, Length: 87, dtype: float64"
      ]
     },
     "execution_count": 46,
     "metadata": {},
     "output_type": "execute_result"
    }
   ],
   "source": [
    "df_raw.neighbourhood.value_counts(normalize=True)"
   ]
  },
  {
   "cell_type": "markdown",
   "metadata": {},
   "source": [
    "#### 2.2. Cleaning Price Columns"
   ]
  },
  {
   "cell_type": "code",
   "execution_count": 47,
   "metadata": {},
   "outputs": [
    {
     "data": {
      "text/plain": [
       "id\n",
       "6400     100\n",
       "23986    150\n",
       "32119    107\n",
       "32649     72\n",
       "37256     55\n",
       "Name: price, dtype: int64"
      ]
     },
     "execution_count": 47,
     "metadata": {},
     "output_type": "execute_result"
    }
   ],
   "source": [
    "df_raw['price'].head(5)"
   ]
  },
  {
   "cell_type": "markdown",
   "metadata": {},
   "source": [
    "Let's first check if there are any null values in the `price` column:"
   ]
  },
  {
   "cell_type": "code",
   "execution_count": 48,
   "metadata": {},
   "outputs": [
    {
     "data": {
      "text/plain": [
       "0"
      ]
     },
     "execution_count": 48,
     "metadata": {},
     "output_type": "execute_result"
    }
   ],
   "source": [
    "# checking Nan's in \"price\" column\n",
    "df_raw.price.isna().sum()"
   ]
  },
  {
   "cell_type": "markdown",
   "metadata": {},
   "source": [
    "No, so we don't need to drop any rows."
   ]
  },
  {
   "cell_type": "code",
   "execution_count": null,
   "metadata": {},
   "outputs": [],
   "source": []
  }
 ],
 "metadata": {
  "kernelspec": {
   "display_name": "Python 3",
   "language": "python",
   "name": "python3"
  },
  "language_info": {
   "codemirror_mode": {
    "name": "ipython",
    "version": 3
   },
   "file_extension": ".py",
   "mimetype": "text/x-python",
   "name": "python",
   "nbconvert_exporter": "python",
   "pygments_lexer": "ipython3",
   "version": "3.6.11"
  }
 },
 "nbformat": 4,
 "nbformat_minor": 4
}
